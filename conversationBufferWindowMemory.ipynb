{
 "cells": [
  {
   "cell_type": "code",
   "execution_count": null,
   "id": "e44d95b6",
   "metadata": {},
   "outputs": [],
   "source": [
    "import os\n",
    "from dotenv import load_dotenv\n",
    "from langchain_openai import ChatOpenAI\n",
    "from langchain.chains import ConversationChain\n",
    "from langchain.memory import ConversationBufferWindowMemory\n",
    "\n",
    "# 1. 加载环境变量 (确保 .env 中设置了 GITHUB_TOKEN)\n",
    "load_dotenv()\n",
    "os.environ[\"OPENAI_API_KEY\"] = os.getenv(\"GITHUB_TOKEN\")  # GitHub Models 用 GITHUB_TOKEN\n",
    "os.environ[\"OPENAI_API_BASE\"] = os.getenv(\"OPENAI_BASE_URL\")  # GitHub Models API 地址\n",
    "os.environ[\"GITHUB_MODEL\"] = os.getenv(\"GITHUB_MODEL\")\n",
    "\n",
    "# 2. 初始化 GitHub Models \n",
    "llm = ChatOpenAI(\n",
    "    model=os.environ[\"GITHUB_MODEL\"], \n",
    "    temperature=0.7\n",
    ")\n",
    "\n",
    "# 3. 设置窗口记忆，只保留最近 3 轮对话\n",
    "memory = ConversationBufferWindowMemory(k=3)\n",
    "\n",
    "# 4. 创建 ConversationChain\n",
    "conversation = ConversationChain(\n",
    "    llm=llm,\n",
    "    memory=memory,\n",
    "    verbose=False  # 打印提示信息，方便调试\n",
    ")\n",
    "\n",
    "# 5. 模拟对话\n",
    "print(conversation.predict(input=\"你好，我叫小王。\"))\n",
    "print(conversation.predict(input=\"我住在加拿大。\"))\n",
    "print(conversation.predict(input=\"我喜欢编程。\"))\n",
    "print(conversation.predict(input=\"你还记得我叫什么吗？\"))  \n",
    "print(conversation.predict(input=\"我最开始说过什么吗？\"))   \n"
   ]
  }
 ],
 "metadata": {
  "kernelspec": {
   "display_name": "Python 3",
   "language": "python",
   "name": "python3"
  },
  "language_info": {
   "codemirror_mode": {
    "name": "ipython",
    "version": 3
   },
   "file_extension": ".py",
   "mimetype": "text/x-python",
   "name": "python",
   "nbconvert_exporter": "python",
   "pygments_lexer": "ipython3",
   "version": "3.13.6"
  }
 },
 "nbformat": 4,
 "nbformat_minor": 5
}
