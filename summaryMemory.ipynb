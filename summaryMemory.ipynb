{
 "cells": [
  {
   "cell_type": "code",
   "execution_count": null,
   "id": "6bb23afa",
   "metadata": {},
   "outputs": [],
   "source": [
    "import os\n",
    "from langchain_openai import ChatOpenAI\n",
    "from langchain.chains import ConversationChain\n",
    "from langchain.memory import ConversationSummaryMemory\n",
    "\n",
    "# 配置 GitHub Models 免费 API\n",
    "os.environ[\"OPENAI_API_KEY\"] = os.getenv(\"GITHUB_TOKEN\")  # 你的 GitHub Token\n",
    "os.environ[\"OPENAI_API_BASE\"] = os.getenv(\"OPENAI_BASE_URL\")  # GitHub Models API 地址\n",
    "os.environ[\"GITHUB_MODEL\"] = os.getenv(\"GITHUB_MODEL\")\n",
    "\n",
    "\n",
    "# 选择一个 GitHub 免费模型\n",
    "llm = ChatOpenAI(\n",
    "    model=os.environ[\"GITHUB_MODEL\"], \n",
    "    temperature=0.7,\n",
    ")\n",
    "\n",
    "# 使用 ConversationSummaryMemory（摘要记忆）\n",
    "memory = ConversationSummaryMemory(llm=llm)\n",
    "\n",
    "# 构建对话链\n",
    "conversation = ConversationChain(\n",
    "    llm=llm,\n",
    "    memory=memory,\n",
    "    verbose=False\n",
    ")\n",
    "\n",
    "# 测试对话\n",
    "print(conversation.predict(input=\"你好，我叫小王，我刚搬到加拿大。\"))\n",
    "print(conversation.predict(input=\"我住在Regina，这里很冷。\"))\n",
    "print(conversation.predict(input=\"我想找一份软件开发的工作。\"))\n",
    "print(conversation.predict(input=\"你还记得我住在哪里吗？\"))\n"
   ]
  }
 ],
 "metadata": {
  "kernelspec": {
   "display_name": "Python 3",
   "language": "python",
   "name": "python3"
  },
  "language_info": {
   "codemirror_mode": {
    "name": "ipython",
    "version": 3
   },
   "file_extension": ".py",
   "mimetype": "text/x-python",
   "name": "python",
   "nbconvert_exporter": "python",
   "pygments_lexer": "ipython3",
   "version": "3.13.6"
  }
 },
 "nbformat": 4,
 "nbformat_minor": 5
}
