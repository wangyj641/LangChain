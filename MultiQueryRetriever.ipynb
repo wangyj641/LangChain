{
 "cells": [
  {
   "cell_type": "code",
   "execution_count": null,
   "id": "d13933bc",
   "metadata": {},
   "outputs": [],
   "source": [
    "%pip install -qU langchain langchain-openai langchain-community faiss-cpu tiktoken\n",
    "%pip install -qU sentence-transformers"
   ]
  },
  {
   "cell_type": "code",
   "execution_count": null,
   "id": "ad438297",
   "metadata": {},
   "outputs": [],
   "source": [
    "import os\n",
    "\n",
    "from dotenv import load_dotenv\n",
    "\n",
    "# 加载环境变量\n",
    "load_dotenv()\n",
    "\n",
    "if not os.getenv(\"GITHUB_TOKEN\"):\n",
    "    print(\"Error: GITHUB_TOKEN is not set in .env file\")\n",
    "    exit(1)\n",
    "\n",
    "\n",
    "os.environ[\"GITHUB_TOKEN\"] = os.getenv(\"GITHUB_TOKEN\")\n",
    "os.environ[\"GITHUB_MODEL\"] = os.getenv(\"GITHUB_MODEL\")\n",
    "os.environ[\"OPENAI_BASE_URL\"] = os.getenv(\"OPENAI_BASE_URL\")\n",
    "\n",
    "# 可选：减少不必要的日志\n",
    "os.environ[\"LANGCHAIN_TRACING_V2\"] = \"true\""
   ]
  },
  {
   "cell_type": "code",
   "execution_count": null,
   "id": "46b6a069",
   "metadata": {},
   "outputs": [],
   "source": [
    "from pathlib import Path\n",
    "from langchain.schema import Document\n",
    "from langchain.text_splitter import RecursiveCharacterTextSplitter\n",
    "\n",
    "# 你的txt路径（举例）\n",
    "TXT_PATH = Path(\"data/kongyiji.txt\")  # 改成你的真实路径\n",
    "\n",
    "# 读取文本（处理编码问题）\n",
    "text = TXT_PATH.read_text(encoding=\"utf-8\", errors=\"ignore\")\n",
    "\n",
    "# 切分：chunk_size/overlap 可按需要调整\n",
    "splitter = RecursiveCharacterTextSplitter(\n",
    "    chunk_size=300,    # 每块字符数\n",
    "    chunk_overlap=40,  # 块间重叠，有助于跨段语义衔接\n",
    "    separators=[\"\\n\\n\", \"\\n\", \"。\", \"，\", \" \", \"\"],  # 中英混排时好用\n",
    ")\n",
    "\n",
    "chunks = splitter.split_text(text)\n",
    "docs = [\n",
    "    Document(page_content=chunk, metadata={\"source\": str(TXT_PATH), \"chunk_id\": i})\n",
    "    for i, chunk in enumerate(chunks)\n",
    "]\n",
    "\n",
    "print(f\"原文长度: {len(text)} 字符，切分得到 {len(docs)} 个文档块。示例：\\n\")\n",
    "for d in docs[:2]:\n",
    "    print(d.metadata, d.page_content[:120], \"...\\n\")"
   ]
  },
  {
   "cell_type": "code",
   "execution_count": null,
   "id": "08cdc556",
   "metadata": {},
   "outputs": [],
   "source": [
    "from langchain_community.embeddings import HuggingFaceEmbeddings\n",
    "from langchain_community.vectorstores import FAISS\n",
    "from langchain_openai import ChatOpenAI\n",
    "from langchain.retrievers.multi_query import MultiQueryRetriever\n",
    "\n",
    "# 1) 本地免费嵌入，构建向量库\n",
    "emb = HuggingFaceEmbeddings(model_name=\"sentence-transformers/all-MiniLM-L6-v2\")\n",
    "vectorstore = FAISS.from_documents(docs, emb)\n",
    "retriever = vectorstore.as_retriever(search_kwargs={\"k\": 4})\n",
    "\n",
    "# 2) 用 GitHub Models 当 LLM\n",
    "llm = ChatOpenAI(\n",
    "    model=\"gpt-4o-mini\",            \n",
    "    temperature=0,\n",
    "    base_url=\"https://models.github.ai/inference\",   # 关键：GitHub Models 新端点\n",
    "    api_key=os.environ[\"GITHUB_TOKEN\"],  # 你的 GitHub PAT\n",
    ")\n",
    "\n",
    "# 3) MultiQueryRetriever\n",
    "mq = MultiQueryRetriever.from_llm(retriever=retriever, llm=llm, include_original=True)\n",
    "query = \"根据语料，谈下孔乙己的性格特点？\"\n",
    "results = mq.get_relevant_documents(query)\n",
    "print(f\"召回去重：{len(results)}\")\n",
    "#print(f\"results:：{results}\")\n",
    "\n",
    "for r in results:\n",
    "    print(r, \"...\\n\")"
   ]
  }
 ],
 "metadata": {
  "kernelspec": {
   "display_name": "Python 3",
   "language": "python",
   "name": "python3"
  },
  "language_info": {
   "codemirror_mode": {
    "name": "ipython",
    "version": 3
   },
   "file_extension": ".py",
   "mimetype": "text/x-python",
   "name": "python",
   "nbconvert_exporter": "python",
   "pygments_lexer": "ipython3",
   "version": "3.13.6"
  }
 },
 "nbformat": 4,
 "nbformat_minor": 5
}
